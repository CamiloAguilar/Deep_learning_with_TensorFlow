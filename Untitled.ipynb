{
 "cells": [
  {
   "cell_type": "markdown",
   "metadata": {},
   "source": [
    "# 1. Hello world\n",
    "\n",
    "### Importando TensorFlow\n",
    "\n",
    "Para usar `TensorFlow` es necesrio importar la librería. La importamos con un nombre opcional `tf`, por lo que los módulos pueden ser llamados como __tf.module-name__"
   ]
  },
  {
   "cell_type": "code",
   "execution_count": 1,
   "metadata": {},
   "outputs": [],
   "source": [
    "import tensorflow as tf"
   ]
  },
  {
   "cell_type": "markdown",
   "metadata": {},
   "source": [
    "_______________\n",
    "## Construyendo un grafo\n",
    "\n",
    "TensorFlow trabaja como un modelo de grafo computacional. Para crear el primer grafo, utilizamos las __operaciones de origen__ o __source operations__, las cuales no requieren información de entrada. Estas __source ops__ pasan su información a otras operaciones que realmente ejecutarán cálculos.\n",
    "\n",
    "Creamos dos __source ops__ que generarán números, definiendo dos constantes:"
   ]
  },
  {
   "cell_type": "code",
   "execution_count": 2,
   "metadata": {},
   "outputs": [],
   "source": [
    "a = tf.constant([2])\n",
    "b = tf.constant([3])"
   ]
  },
  {
   "cell_type": "markdown",
   "metadata": {},
   "source": [
    "Definimos una operación simple. La función __tf.add()__ se usa para sumar dos elementos (pudiendo usar también $c = a+b$)"
   ]
  },
  {
   "cell_type": "code",
   "execution_count": 3,
   "metadata": {},
   "outputs": [],
   "source": [
    "c = tf.add(a, b)\n",
    "print(c)"
   ]
  },
  {
   "cell_type": "markdown",
   "metadata": {},
   "source": [
    "Ya que los `grafos` deben ser ejecutados en el contexto de una sesión, necesitamos crear un objeto de sesión para ver el `grafo` dentro de TensorFlow. Iniciamos nuestra sesión asi:"
   ]
  },
  {
   "cell_type": "code",
   "execution_count": 5,
   "metadata": {},
   "outputs": [],
   "source": [
    "session = tf.Session()"
   ]
  },
  {
   "cell_type": "markdown",
   "metadata": {},
   "source": [
    "Después de correr la sesión se pueden obtener los resultados para la operación definida en 'c'."
   ]
  },
  {
   "cell_type": "code",
   "execution_count": 6,
   "metadata": {},
   "outputs": [
    {
     "name": "stdout",
     "output_type": "stream",
     "text": [
      "[5]\n"
     ]
    }
   ],
   "source": [
    "result = session.run(c)\n",
    "print(result)"
   ]
  },
  {
   "cell_type": "markdown",
   "metadata": {},
   "source": [
    "La siguiente instrucción cierra la sesión para liberar recursos"
   ]
  },
  {
   "cell_type": "code",
   "execution_count": 7,
   "metadata": {},
   "outputs": [],
   "source": [
    "session.close()"
   ]
  },
  {
   "cell_type": "markdown",
   "metadata": {},
   "source": [
    "Para evitar tener que cerrar las sesiones cada vez, podemos definirlos en un bucle `with`. Después de ejecutado el bucle `with` la sesión se cerrará automáticamente. "
   ]
  },
  {
   "cell_type": "code",
   "execution_count": 8,
   "metadata": {},
   "outputs": [
    {
     "name": "stdout",
     "output_type": "stream",
     "text": [
      "[5]\n"
     ]
    }
   ],
   "source": [
    "with tf.Session() as session:\n",
    "    result = session.run(c)\n",
    "    print(result)"
   ]
  },
  {
   "cell_type": "markdown",
   "metadata": {},
   "source": [
    "## ¿Cuál es el significado de un Tensor?\n",
    "\n",
    "<div class=\"alert alert-block alert-success\">\n",
    "<b>En TensorFlow todos los datos se pasan entre operaciones en un grafo computacional, y estos son pasados en forma de tensores, de ahí el nombre de TensorFlow.</b> \n",
    "<br><br>\n",
    "\n",
    "La palabra <b>Tensor</b> viene del latín con el significado 'lo que se extiende'. Es un objeto matemático que se utilizó originalmente ara analizar la forma en que los materiales se estiran bajo tensión. Hoy en día un tensor se refiere típicamente a una matriz multidimensional.\n",
    "</div>"
   ]
  },
  {
   "cell_type": "code",
   "execution_count": null,
   "metadata": {},
   "outputs": [],
   "source": []
  }
 ],
 "metadata": {
  "kernelspec": {
   "display_name": "Python 3",
   "language": "python",
   "name": "python3"
  },
  "language_info": {
   "codemirror_mode": {
    "name": "ipython",
    "version": 3
   },
   "file_extension": ".py",
   "mimetype": "text/x-python",
   "name": "python",
   "nbconvert_exporter": "python",
   "pygments_lexer": "ipython3",
   "version": "3.6.5"
  }
 },
 "nbformat": 4,
 "nbformat_minor": 2
}
