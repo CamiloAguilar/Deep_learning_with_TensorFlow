{
 "cells": [
  {
   "cell_type": "markdown",
   "metadata": {},
   "source": [
    "## Deep Neural Nteworks with TensorFlow\n",
    "\n",
    "![](img/01-cnn_training.png)"
   ]
  },
  {
   "cell_type": "markdown",
   "metadata": {},
   "source": [
    "## Recurrent Neural Network\n",
    "\n",
    "Una `Recurrent Neural Network` o `RNN` para abreviar, es una gran herramienta para para modelar datos secuenciales. La `RNN` es capaz de recordar el análisis que se realizó hasta un punto dado, manteniendo un estado o contexto (por decirlo de alguna manera). Podemos pensar en el _estado_ como la _memoria_ de la `RNN`, que captura información sobre lo que se ha calculado previamente. Este _estado_ vuelve a aparecer en la red con cada nueva entrada, que es donde la red recibe su nombre."
   ]
  },
  {
   "cell_type": "code",
   "execution_count": null,
   "metadata": {},
   "outputs": [],
   "source": []
  }
 ],
 "metadata": {
  "kernelspec": {
   "display_name": "Python 3",
   "language": "python",
   "name": "python3"
  },
  "language_info": {
   "codemirror_mode": {
    "name": "ipython",
    "version": 3
   },
   "file_extension": ".py",
   "mimetype": "text/x-python",
   "name": "python",
   "nbconvert_exporter": "python",
   "pygments_lexer": "ipython3",
   "version": "3.6.5"
  }
 },
 "nbformat": 4,
 "nbformat_minor": 2
}
